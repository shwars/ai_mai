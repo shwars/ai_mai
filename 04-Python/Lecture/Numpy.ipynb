{
 "cells": [
  {
   "cell_type": "markdown",
   "metadata": {},
   "source": [
    "# Библиотека Numpy\n",
    "\n",
    "Numpy - это библиотека для работы с матрицами и тензорами. Основная функциональность библиотеки реализована на C/C++, из-за чего скорость всех операций весьма высока. По сути дела, при реализации вычислений с помощью Numpy язык Python является своего рода \"клеем\", который объединяет высокопроизводительные матричные операции, реализованные на эффективном языке.\n",
    "\n",
    "Основной структурой данных numpy является массив `ndarray`:"
   ]
  },
  {
   "cell_type": "code",
   "execution_count": 1,
   "metadata": {},
   "outputs": [
    {
     "data": {
      "text/plain": [
       "array([1, 2, 3, 4, 5])"
      ]
     },
     "execution_count": 1,
     "metadata": {},
     "output_type": "execute_result"
    }
   ],
   "source": [
    "import numpy as np\n",
    "\n",
    "a = np.array([1,2,3,4,5])\n",
    "a"
   ]
  },
  {
   "cell_type": "markdown",
   "metadata": {},
   "source": [
    "Основные отличия массива от списка:\n",
    "* Массивы могут быть многомерными (5x5, 6x3x5 и т.д.), с произвольным числом размерностей\n",
    "* Все элементы массива - одного типа. В отличие от базовых типов Python, типы элементов массивов отличаются: `np.int32`, `np.float64` и т.д. Тип элементов можно указать при создании с помощью параметра `dtype`.\n",
    "* Над массивами удобно совершать параллельные арифметические операции, которые производятся поэлементно. Например: "
   ]
  },
  {
   "cell_type": "code",
   "execution_count": 2,
   "metadata": {},
   "outputs": [
    {
     "data": {
      "text/plain": [
       "array([5, 8, 9, 8, 5])"
      ]
     },
     "execution_count": 2,
     "metadata": {},
     "output_type": "execute_result"
    }
   ],
   "source": [
    "b = np.array([5,4,3,2,1],dtype=np.int32)\n",
    "c = a*b # поэлементное умножение, не векторное произведение!\n",
    "c"
   ]
  },
  {
   "cell_type": "markdown",
   "metadata": {},
   "source": [
    "Размерность массива может быть легко изменена методом `.reshape`. Это не приводит к изменению размещения элементов в памяти, только к корректировке метаданных - поэтому такая операция производится быстро. Указание -1 в какой-то из размерностей означает, что она будет вычеслена автоматически:"
   ]
  },
  {
   "cell_type": "code",
   "execution_count": 8,
   "metadata": {},
   "outputs": [
    {
     "name": "stdout",
     "output_type": "stream",
     "text": [
      "[ 0  1  2  3  4  5  6  7  8  9 10 11 12 13 14 15 16 17 18 19 20 21 22 23\n",
      " 24]\n",
      "[[ 0  1  2  3  4]\n",
      " [ 5  6  7  8  9]\n",
      " [10 11 12 13 14]\n",
      " [15 16 17 18 19]\n",
      " [20 21 22 23 24]]\n",
      "Shape = (5, 5)\n"
     ]
    }
   ],
   "source": [
    "a = np.arange(25) # массив элементов от 0 до 24\n",
    "print(a)\n",
    "a = a.reshape(-1,5)\n",
    "print(a)\n",
    "print(f\"Shape = {a.shape}\")"
   ]
  },
  {
   "cell_type": "markdown",
   "metadata": {},
   "source": [
    "> Массивы размерности 2 также называют матрицами, а массивы произвольной размерности - тензорами.\n",
    "\n",
    "### Приведение размерностей\n",
    "\n",
    "В `numpy` мы можем совершать поэлементные операции с массивами различных разменостей, если они **согласуются**. Например, а массиву `a` размерностью 5x5 можно прибавить число 1 - в этом случае размерность единицы будет расширена до 5x5. Аналогично можно прибавить к массиву 5x5 строку длины 5: "
   ]
  },
  {
   "cell_type": "code",
   "execution_count": 11,
   "metadata": {},
   "outputs": [
    {
     "name": "stdout",
     "output_type": "stream",
     "text": [
      "[[ 1  2  3  4  5]\n",
      " [ 6  7  8  9 10]\n",
      " [11 12 13 14 15]\n",
      " [16 17 18 19 20]\n",
      " [21 22 23 24 25]]\n",
      "[[ 9  9  9  9  9]\n",
      " [14 14 14 14 14]\n",
      " [19 19 19 19 19]\n",
      " [24 24 24 24 24]\n",
      " [29 29 29 29 29]]\n"
     ]
    }
   ],
   "source": [
    "print(a+1)\n",
    "print(a+np.array([9,8,7,6,5]))"
   ]
  },
  {
   "cell_type": "markdown",
   "metadata": {},
   "source": [
    "### Срезы\n",
    "\n",
    "К массивам можно применять такие же операции срезов, как и к спискам - только более гибко. Например:"
   ]
  },
  {
   "cell_type": "code",
   "execution_count": 12,
   "metadata": {},
   "outputs": [
    {
     "name": "stdout",
     "output_type": "stream",
     "text": [
      "Первая строка a =  [0 1 2 3 4]\n",
      "Первый столбец a =  [ 0  5 10 15 20]\n",
      "Серединка a = \n",
      " [[ 6  7  8]\n",
      " [11 12 13]\n",
      " [16 17 18]]\n"
     ]
    }
   ],
   "source": [
    "print(\"Первая строка a = \",a[0])\n",
    "print(\"Первый столбец a = \",a[:,0])\n",
    "print(\"Серединка a = \\n\",a[1:-1,1:-1])"
   ]
  },
  {
   "cell_type": "markdown",
   "metadata": {},
   "source": [
    "Обратите внимание, что можно выбирать сразу несколько строк матрицы с помощью индексации списком:"
   ]
  },
  {
   "cell_type": "code",
   "execution_count": 13,
   "metadata": {},
   "outputs": [
    {
     "data": {
      "text/plain": [
       "array([[ 0,  1,  2,  3,  4],\n",
       "       [10, 11, 12, 13, 14],\n",
       "       [20, 21, 22, 23, 24]])"
      ]
     },
     "execution_count": 13,
     "metadata": {},
     "output_type": "execute_result"
    }
   ],
   "source": [
    "a[[0,2,4]]"
   ]
  },
  {
   "cell_type": "markdown",
   "metadata": {},
   "source": [
    "### Матричные операции\n",
    "\n",
    "В `numpy` удобно производить матричные вычисления. Для матричного произведения используется операция `np.matmul` или `@`, для транспонирования - `.Т`."
   ]
  },
  {
   "cell_type": "code",
   "execution_count": 14,
   "metadata": {},
   "outputs": [
    {
     "name": "stdout",
     "output_type": "stream",
     "text": [
      "[[ 1.42164707 -0.65613135 -0.24234129]\n",
      " [ 1.14933244 -1.6992162  -0.99276708]]\n",
      "[[ 1.42164707  1.14933244]\n",
      " [-0.65613135 -1.6992162 ]\n",
      " [-0.24234129 -0.99276708]]\n"
     ]
    }
   ],
   "source": [
    "a = np.random.normal(size=(2,5))\n",
    "b = np.random.normal(size=(5,3))\n",
    "print(a@b)\n",
    "print((a@b).T)"
   ]
  },
  {
   "cell_type": "markdown",
   "metadata": {},
   "source": [
    "Можно вычислять обратную матрицу с помощью `np.linalg.inv`. В целом подпакет `linalg` содержит множество полезных операций из линейной алгебры.\n",
    "\n",
    "> По правилам линейной алгебры, обращать можно только квадратные матрицы с ненулевым детерминантом. Если детерминант нулевой - будет инициирована ошибка.\n",
    "\n",
    "> По правилам приведения размерности, мы можем обращать любой тензор, две последние размерности которого совпадают. В этом случае обращение матрицы будет произведено для каждого квадратного подмассива по всем комбинациям первоначальных индексов.\n",
    "\n",
    "### Пример: решение системы линейных уравнений\n",
    "\n",
    "С помощью обращения матрицы легко реализовать решение системы линейных уравнений, например:\n",
    "\n",
    "$$\n",
    "\\begin{cases}\n",
    "x_1+x_2+x_3 = 2 \\\\\n",
    "2x_1+3x_2-x_3 = 5\\\\\n",
    "x_1-x_2+x_3 = 0\\\\\n",
    "\\end{cases}\n",
    "$$\n",
    "\n",
    "Такая система уравнений может быть представлена в матричной форме\n",
    "\n",
    "$$\n",
    "\\begin{pmatrix} 1 & 1 & 1 \\\\ 2 & 3 & -1 \\\\ 1 & -1 & 1\\end{pmatrix} \\times\n",
    "\\begin{pmatrix} x_1 \\\\ x_2 \\\\ x_3 \\end{pmatrix} =\n",
    "\\begin{pmatrix} 2 \\\\ 5 \\\\ 0 \\end{pmatrix}\n",
    "$$\n",
    "или\n",
    "$$\n",
    "Ax = b\n",
    "$$\n",
    "Тогда, домножая на матрицу, обратную $A$, получаем\n",
    "$$\n",
    "x = A^{-1}b\n",
    "$$\n",
    "Это легко записать с помощью `numpy`:"
   ]
  },
  {
   "cell_type": "code",
   "execution_count": 15,
   "metadata": {},
   "outputs": [
    {
     "data": {
      "text/plain": [
       "array([ 1.00000000e+00,  1.00000000e+00, -2.22044605e-16])"
      ]
     },
     "execution_count": 15,
     "metadata": {},
     "output_type": "execute_result"
    }
   ],
   "source": [
    "A = np.array([[1,1,1],[2,3,-1],[1,-1,1]])\n",
    "b = np.array([2,5,0])\n",
    "x = np.linalg.inv(A)@b\n",
    "x"
   ]
  },
  {
   "cell_type": "markdown",
   "metadata": {},
   "source": [
    "Проверим:"
   ]
  },
  {
   "cell_type": "code",
   "execution_count": 16,
   "metadata": {},
   "outputs": [
    {
     "data": {
      "text/plain": [
       "array([2, 5, 0])"
      ]
     },
     "execution_count": 16,
     "metadata": {},
     "output_type": "execute_result"
    }
   ],
   "source": [
    "A@np.array([1,1,0])"
   ]
  },
  {
   "cell_type": "markdown",
   "metadata": {},
   "source": [
    "### Типовые матрицы\n",
    "\n",
    "Часто бывает необходимо задавать некоторые типовые матрицы заданного размера. Например, нулевые или единичные матрицы:"
   ]
  },
  {
   "cell_type": "code",
   "execution_count": 17,
   "metadata": {},
   "outputs": [
    {
     "name": "stdout",
     "output_type": "stream",
     "text": [
      "Нулевая матрица:\n",
      " [[0. 0. 0.]\n",
      " [0. 0. 0.]]\n",
      "Единичная матрица:\n",
      " [[1. 0. 0.]\n",
      " [0. 1. 0.]\n",
      " [0. 0. 1.]]\n",
      "Матрица из единиц, такой же размерности, как a:\n",
      " [[1. 1. 1. 1. 1.]\n",
      " [1. 1. 1. 1. 1.]]\n"
     ]
    }
   ],
   "source": [
    "print(\"Нулевая матрица:\\n\",np.zeros(shape=(2,3)))\n",
    "print(\"Единичная матрица:\\n\",np.eye(3))\n",
    "print(\"Матрица из единиц, такой же размерности, как a:\\n\",np.ones_like(a))"
   ]
  },
  {
   "cell_type": "markdown",
   "metadata": {},
   "source": [
    "В задачах машинного обучения часто бывает нужным закодировать номер с помощью так называемого **one-hot encoding**. Предположим, что у нас есть 5 разных классов, закодированных номерами от 0 до 4. One-hot encoding, соответствующий $i$-ому классу - это вектор размерности 5, у которого на $i$-ой позиции стоит единичка.\n",
    "\n",
    "Для получения one-hot encoding удобно использовать индексирование единичной матрицы:"
   ]
  },
  {
   "cell_type": "code",
   "execution_count": 18,
   "metadata": {},
   "outputs": [
    {
     "name": "stdout",
     "output_type": "stream",
     "text": [
      "Вектор, соответствующий 0 -> [1. 0. 0. 0. 0.]\n",
      "Вектор, соответствующий 1 -> [0. 1. 0. 0. 0.]\n",
      "Вектор, соответствующий 2 -> [0. 0. 1. 0. 0.]\n",
      "Вектор, соответствующий 3 -> [0. 0. 0. 1. 0.]\n",
      "Вектор, соответствующий 4 -> [0. 0. 0. 0. 1.]\n"
     ]
    }
   ],
   "source": [
    "for i in range(5):\n",
    "    print(f\"Вектор, соответствующий {i} -> {np.eye(5)[i]}\")"
   ]
  },
  {
   "cell_type": "markdown",
   "metadata": {},
   "source": [
    "### Визуализация с помощью Matplotlib\n",
    "\n",
    "Один из больших плюсов Python является наличие мощной библиотеки научной визуализации **matplotlib**. Например, если у нас есть некоторый набор данных, мы можем построить соответствующий график:"
   ]
  },
  {
   "cell_type": "code",
   "execution_count": 19,
   "metadata": {},
   "outputs": [
    {
     "data": {
      "image/png": "[encoded data removed]",
      "text/plain": [
       "<Figure size 432x288 with 1 Axes>"
      ]
     },
     "metadata": {
      "needs_background": "light"
     },
     "output_type": "display_data"
    }
   ],
   "source": [
    "import matplotlib.pyplot as plt\n",
    "\n",
    "a = np.random.normal(size=(12))\n",
    "plt.plot(a)\n",
    "plt.show()"
   ]
  },
  {
   "cell_type": "markdown",
   "metadata": {},
   "source": [
    "Аналогичный график можно построить в виде bar-диаграммы - в этом случае надо передать набор координат по аси абсцисс и по оси ординат:"
   ]
  },
  {
   "cell_type": "code",
   "execution_count": 20,
   "metadata": {},
   "outputs": [
    {
     "data": {
      "image/png": "[encoded data removed]",
      "text/plain": [
       "<Figure size 432x288 with 1 Axes>"
      ]
     },
     "metadata": {
      "needs_background": "light"
     },
     "output_type": "display_data"
    }
   ],
   "source": [
    "import matplotlib.pyplot as plt\n",
    "\n",
    "a = np.random.normal(size=(12))\n",
    "x = np.arange(len(a))\n",
    "plt.bar(x,a)\n",
    "plt.show()"
   ]
  },
  {
   "cell_type": "markdown",
   "metadata": {},
   "source": [
    "Предположим, эти данные относятся к помесячным измерениям, т.е. по оси абсцисс надо отложить названия месяцев. Кроме того, повернём их для красоты на некоторый угол (задав параметр `rotation`), а также раскрасим все значения меньше нуля в красный цвет (для этого придётся пройтись циклом по всем значениям и установить цвет, если значение меньше 0)."
   ]
  },
  {
   "cell_type": "code",
   "execution_count": 21,
   "metadata": {},
   "outputs": [
    {
     "data": {
      "image/png": "[encoded data removed]",
      "text/plain": [
       "<Figure size 432x288 with 1 Axes>"
      ]
     },
     "metadata": {
      "needs_background": "light"
     },
     "output_type": "display_data"
    }
   ],
   "source": [
    "months = ['Jan','Feb','Mar','Apr','May','Jun','Jul','Aug','Sep','Oct','Nov','Dec']\n",
    "bars = plt.bar(x,a)\n",
    "plt.xticks(x,months,rotation=30)\n",
    "for b,v in zip(bars,a):\n",
    "    if v<0:\n",
    "        b.set_color('red')\n",
    "plt.xlabel(\"Months\")\n",
    "plt.ylabel(\"Data\")\n",
    "plt.show()"
   ]
  },
  {
   "cell_type": "markdown",
   "metadata": {},
   "source": [
    "**Matplotlib** поддерживает также создание нескольких графиков - **subplots**. В этом случае каждый из графиков называется **Axes** - это объект, которые содержит в себе дочерние графические элементы."
   ]
  },
  {
   "cell_type": "code",
   "execution_count": null,
   "metadata": {},
   "outputs": [],
   "source": [
    "fig,ax = plt.subplots(1,2,figsize=(15,3))\n",
    "# левый график\n",
    "ax[0].plot(a)\n",
    "ax[0].yaxis.grid() # добавить горизонтальные линии\n",
    "# правый график\n",
    "ax[1].bar(x,a)\n",
    "# для каждого графика\n",
    "for i in [0,1]:\n",
    "    ax[i].set_xticks(x,months,rotation=30)\n",
    "plt.show()"
   ]
  },
  {
   "cell_type": "code",
   "execution_count": null,
   "metadata": {},
   "outputs": [],
   "source": []
  }
 ],
 "metadata": {
  "kernelspec": {
   "display_name": "Python 3.9.12 ('base')",
   "language": "python",
   "name": "python3"
  },
  "language_info": {
   "codemirror_mode": {
    "name": "ipython",
    "version": 3
   },
   "file_extension": ".py",
   "mimetype": "text/x-python",
   "name": "python",
   "nbconvert_exporter": "python",
   "pygments_lexer": "ipython3",
   "version": "3.9.12"
  },
  "orig_nbformat": 4,
  "vscode": {
   "interpreter": {
    "hash": "d21c24a7952cc9fa93a33c3da71b373ffe761d6ab0c9cc9b2153e31da51ffb58"
   }
  }
 },
 "nbformat": 4,
 "nbformat_minor": 2
}
