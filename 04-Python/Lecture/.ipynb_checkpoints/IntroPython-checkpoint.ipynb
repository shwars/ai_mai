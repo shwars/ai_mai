{
 "cells": [
  {
   "cell_type": "markdown",
   "metadata": {},
   "source": [
    "# Введение в Python\n",
    "Python — это лаконичный и современный язык программирования, который все чаще используется инженерами и учеными. В этом документе мы продемонстрируем некоторые базовые функции Python. Вы также можете посмотреть [более подробный курс по Python](https://github.com/shwars/pycourse). "
   ]
  },
  {
   "cell_type": "markdown",
   "metadata": {},
   "source": [
    "### Строгая динамическая типизация\n",
    "\n",
    "Динамическая типизация означает, что при объявлении переменной нет необходимости указывать её тип - он определяется автоматически:"
   ]
  },
  {
   "cell_type": "code",
   "execution_count": 6,
   "metadata": {},
   "outputs": [
    {
     "name": "stdout",
     "output_type": "stream",
     "text": [
      "10\n",
      "eighttwo\n",
      "eighteight\n"
     ]
    }
   ],
   "source": [
    "a = 8\n",
    "b = 2\n",
    "c = \"eight\"\n",
    "d = \"two\"\n",
    "print(a + b)\n",
    "print(c + d)\n",
    "print(c*b)"
   ]
  },
  {
   "cell_type": "markdown",
   "metadata": {},
   "source": [
    "Обратите внимание, что строку можно умножать на число - в этом случае строка повторяется заданное число раз.\n",
    "\n",
    "Основные типы в Python:\n",
    "* **str** - строка\n",
    "* **int** - целое число\n",
    "* **float** - вещественное число\n",
    "* **bool** - логический, может быть `True` или `False`\n",
    "\n",
    "Посмотрим, что будет, если попытаться сложить переменные разных типов:"
   ]
  },
  {
   "cell_type": "code",
   "execution_count": null,
   "metadata": {},
   "outputs": [],
   "source": [
    "print(a+c)"
   ]
  },
  {
   "cell_type": "markdown",
   "metadata": {},
   "source": [
    "Обратите внимание на ошибку - это **строгая типизация**, которая не пытается осуществить неявное приведение типов. Для явного приведения типов необходимо использовать операции `str`, `int` и т.д."
   ]
  },
  {
   "cell_type": "code",
   "execution_count": 5,
   "metadata": {},
   "outputs": [
    {
     "name": "stdout",
     "output_type": "stream",
     "text": [
      "8eight\n"
     ]
    }
   ],
   "source": [
    "print(str(a)+c)"
   ]
  },
  {
   "cell_type": "markdown",
   "metadata": {},
   "source": [
    "Исключение - приведение целых чисел к вещественным, если мы, например, складываем целое и вещественное число. Если мы делим два целых числа - то тоже может получится вещественное. Для целочисленного деления предусмотрены специальные операции - `//` и `%` (остаток от деления)"
   ]
  },
  {
   "cell_type": "code",
   "execution_count": 7,
   "metadata": {},
   "outputs": [
    {
     "name": "stdout",
     "output_type": "stream",
     "text": [
      "3.3333333333333335\n",
      "3\n",
      "1\n"
     ]
    }
   ],
   "source": [
    "print(10/3)\n",
    "print(10//3)\n",
    "print(10%3)"
   ]
  },
  {
   "cell_type": "markdown",
   "metadata": {},
   "source": [
    "### Библиотеки\n",
    "\n",
    "В Python для удобства функции объединяются в библиотеки. Есть множество стандартных библиотек. Например, `math` содержит кучу математических функций:"
   ]
  },
  {
   "cell_type": "code",
   "execution_count": 8,
   "metadata": {},
   "outputs": [
    {
     "name": "stdout",
     "output_type": "stream",
     "text": [
      "1.0\n"
     ]
    }
   ],
   "source": [
    "import math\n",
    "print(math.sin(math.pi/2))"
   ]
  },
  {
   "cell_type": "markdown",
   "metadata": {},
   "source": [
    "Перед использованием библиотеку необходимо импортировать. Это можно сделать по-разному:\n",
    "\n",
    "* **`import math`** - простое импортирование, для работы с функциями надо указывать имя библиотеки, напр. `math.sin`\n",
    "* **`import math as m`** - можно указать более короткое имя библиотеки, чтобы затем писать `m.sin`\n",
    "* **`from math import sin`** - можно импортировать только одну функцию, в этом случае она попадает в основое **пространство имён**, и можно писать просто `sin`\n",
    "* **`from math import *`** - импортирование всех функций в основное пространство имён. Начинающие часто пользуются этой возможностью, однако надо помнить, что в некоторых библиотеках есть функции с одинаковыми именами, и неосторожное импортирование может привести к конфликту имён\n",
    "\n",
    "Ещё больше возможностей доступно в виде **внешних библиотек** - они не входят в поставку Python, но могут быть дополнительно установлены. Для работы с библиотеками используются **менеджеры пакетов**:\n",
    "\n",
    "* **pip** - наиболее распространённый менеджер пакетов, работающий с репозиторием [PyPI](http://pypi.org). Для установки используется команда `pip install`, или `python -m pip install`\n",
    "* **conda** - менеджер, входящий в состав Anaconda и miniconda. Для установки используется команда `conda install`.\n",
    "\n",
    "Обычно большие и сложные библиотеки лучше устанавливать с помощью conda, а в большинстве случаев подходит pip.\n",
    "\n",
    "> **Замечение**: Поскольку у библиотек бывают разные версии, часто при работе разных программ в среде Python необходимы разные версии библиотек. Поэтому возникает необходимость поддерживать так называемые **виртуальные окружения** - определённые комбинации библиотек, нужные для работы. `conda` как раз позволяет работать с виртуальными окружениями.\n",
    "\n",
    "Попробуем установить библиотеку для работы с **черепашьей графикой**:"
   ]
  },
  {
   "cell_type": "code",
   "execution_count": 1,
   "metadata": {},
   "outputs": [
    {
     "name": "stdout",
     "output_type": "stream",
     "text": [
      "Requirement already satisfied: jturtle in c:\\winapp\\conda\\lib\\site-packages (0.0.3)\n",
      "Requirement already satisfied: matplotlib in c:\\winapp\\conda\\lib\\site-packages (from jturtle) (3.5.3)\n",
      "Requirement already satisfied: cycler>=0.10 in c:\\winapp\\conda\\lib\\site-packages (from matplotlib->jturtle) (0.11.0)\n",
      "Requirement already satisfied: packaging>=20.0 in c:\\winapp\\conda\\lib\\site-packages (from matplotlib->jturtle) (21.3)\n",
      "Requirement already satisfied: pyparsing>=2.2.1 in c:\\winapp\\conda\\lib\\site-packages (from matplotlib->jturtle) (3.0.4)\n",
      "Requirement already satisfied: fonttools>=4.22.0 in c:\\winapp\\conda\\lib\\site-packages (from matplotlib->jturtle) (4.34.4)\n",
      "Requirement already satisfied: kiwisolver>=1.0.1 in c:\\winapp\\conda\\lib\\site-packages (from matplotlib->jturtle) (1.4.4)\n",
      "Requirement already satisfied: python-dateutil>=2.7 in c:\\users\\dmitr\\appdata\\roaming\\python\\python39\\site-packages (from matplotlib->jturtle) (2.8.2)\n",
      "Requirement already satisfied: pillow>=6.2.0 in c:\\winapp\\conda\\lib\\site-packages (from matplotlib->jturtle) (9.0.1)\n",
      "Requirement already satisfied: numpy>=1.17 in c:\\winapp\\conda\\lib\\site-packages (from matplotlib->jturtle) (1.22.3)\n",
      "Requirement already satisfied: six>=1.5 in c:\\winapp\\conda\\lib\\site-packages (from python-dateutil>=2.7->matplotlib->jturtle) (1.16.0)\n"
     ]
    }
   ],
   "source": [
    "import sys\n",
    "!{sys.executable} -m pip install jturtle"
   ]
  },
  {
   "cell_type": "code",
   "execution_count": 2,
   "metadata": {},
   "outputs": [
    {
     "data": {
      "image/png": "[encoded data removed]",
      "text/plain": [
       "<Figure size 432x288 with 1 Axes>"
      ]
     },
     "metadata": {
      "needs_background": "light"
     },
     "output_type": "display_data"
    }
   ],
   "source": [
    "import jturtle as turtle\n",
    "turtle.forward(100)\n",
    "turtle.right(120)\n",
    "turtle.forward(100)\n",
    "turtle.right(120)\n",
    "turtle.forward(100)\n",
    "turtle.right(120)\n",
    "turtle.done()"
   ]
  },
  {
   "cell_type": "markdown",
   "metadata": {},
   "source": [
    "Если всё получилось, то вы увидите треугольник. Черепашья графика позволяет рисовать, управляя объектом **черепаха** (`turtle`), и давая ему команды: вперед, поворот и т.д. В конце команда `turtle.done()` завершает рисование и выводит результат на экран.\n",
    "\n",
    "### Функции\n",
    "\n",
    "Чтобы изобразить что-то достаточно сложное, нам может потребоваться рисовать различные геометрические фигуры, и не один раз. Поэтому логично было бы определить дополнительные команды для рисования различных фигур, на основе более простых действий черепахи. Для этого служат **функции** - фрагменты кода, которые мы можем определить. Например, определим функцию рисования многоугольника:"
   ]
  },
  {
   "cell_type": "code",
   "execution_count": 5,
   "metadata": {},
   "outputs": [
    {
     "data": {
      "image/png": "[encoded data removed]",
      "text/plain": [
       "<Figure size 432x288 with 1 Axes>"
      ]
     },
     "metadata": {
      "needs_background": "light"
     },
     "output_type": "display_data"
    }
   ],
   "source": [
    "def poly(x,n):\n",
    "  ang = 360//n\n",
    "  for i in range(n):\n",
    "    turtle.forward(x)\n",
    "    turtle.right(ang)\n",
    "\n",
    "poly(10,5)\n",
    "turtle.done()"
   ]
  },
  {
   "cell_type": "markdown",
   "metadata": {},
   "source": [
    "Здесь `x` и `n` - это **параметры** функции. При вызове функции мы можем вместо них задавать любые **аргументы**, и они будут сопоставлены с переменными `x` и `n` внутри функции.\n",
    "\n",
    "### Циклы и условный оператор\n",
    "\n",
    "В определении функции нам необходимо было повторить определённые действия `n` раз, по числу сторон многоугольника. Для этого мы использовали **цикл for**, который позволяет выполнить фрагмент кода заданное число раз. Например:"
   ]
  },
  {
   "cell_type": "code",
   "execution_count": 6,
   "metadata": {},
   "outputs": [
    {
     "name": "stdout",
     "output_type": "stream",
     "text": [
      "1\n",
      "3\n",
      "5\n",
      "7\n",
      "9\n"
     ]
    }
   ],
   "source": [
    "for i in range(1,10,2):\n",
    "    print(i)"
   ]
  },
  {
   "cell_type": "markdown",
   "metadata": {},
   "source": [
    "Другой вариант цикла - это **цикл while**, который выполняется вплоть до некоторого условия. Например, вот так мы можем найти все делители некоторого целого числа:"
   ]
  },
  {
   "cell_type": "code",
   "execution_count": 7,
   "metadata": {},
   "outputs": [
    {
     "name": "stdout",
     "output_type": "stream",
     "text": [
      "3 5 823 "
     ]
    }
   ],
   "source": [
    "x = 12345\n",
    "n = 2\n",
    "while x>1:\n",
    "    if x%n==0:\n",
    "        print(n, end=' ')\n",
    "        x//=n\n",
    "    else:\n",
    "        n+=1"
   ]
  },
  {
   "cell_type": "markdown",
   "metadata": {},
   "source": [
    "Обратите внимания на некоторые операции:\n",
    "* `n+=1` аналогично записи `n=n+1`\n",
    "* `x//=n` аналогичным образом означает `x=x//n`"
   ]
  },
  {
   "cell_type": "markdown",
   "metadata": {},
   "source": [
    "Другим часто используемым в программировании вариантом цикла является цикл с постусловием, когда нам сначало необходимо выполнить некоторое действие а потом проверить, нужно ли продолжать выполнение цикла. В этом случае удобно использовать операцию `break` для выхода из цикла:"
   ]
  },
  {
   "cell_type": "code",
   "execution_count": 8,
   "metadata": {},
   "outputs": [
    {
     "name": "stdout",
     "output_type": "stream",
     "text": [
      "3 5 823 "
     ]
    }
   ],
   "source": [
    "x = 12345\n",
    "n = 2\n",
    "while True:\n",
    "    if x%n==0:\n",
    "        print(n, end=' ')\n",
    "        x//=n\n",
    "    else:\n",
    "        n+=1\n",
    "    if x==1:\n",
    "        break"
   ]
  },
  {
   "cell_type": "markdown",
   "metadata": {},
   "source": [
    "### Опциональные параметры функции\n",
    "\n",
    "У функции можно задавать значение некоторых параметров по умолчанию. Например, рассмотрим функцию, суммирующую цифры числа в различных системах счисления:"
   ]
  },
  {
   "cell_type": "code",
   "execution_count": 17,
   "metadata": {},
   "outputs": [],
   "source": [
    "def sum_digits(x,base=10):\n",
    "    s = 0\n",
    "    while x>0:\n",
    "        s+=x%base\n",
    "        x//=base\n",
    "    return s"
   ]
  },
  {
   "cell_type": "markdown",
   "metadata": {},
   "source": [
    "Здесь по умолчанию мы предполагаем значение системы счисления, равной 10. Вызывать такую функцию можно как указывая значение второго параметра, так и без него. Причем возможно использовать как позиционное обозначение аргументов, так и именованное:"
   ]
  },
  {
   "cell_type": "code",
   "execution_count": 18,
   "metadata": {},
   "outputs": [
    {
     "name": "stdout",
     "output_type": "stream",
     "text": [
      "15\n",
      "6\n",
      "15\n",
      "15\n"
     ]
    }
   ],
   "source": [
    "print(sum_digits(12345))\n",
    "print(sum_digits(12345,2))\n",
    "print(sum_digits(12345,base=16))\n",
    "print(sum_digits(base=16,x=12345))"
   ]
  },
  {
   "cell_type": "markdown",
   "metadata": {},
   "source": [
    "### Рекурсия\n",
    "\n",
    "Циклы позволяют нам писать программы, которые выполняют одни и те же действия много раз. Тоже самое можно делать и с помощью **рекурсии** - подхода, при котором некоторая функция вызывает сама себя, тем самым инициируя повтороное вычисление.\n",
    "\n",
    "Рассмотрим для примера рисование фрактальной фигуры под названием **[снежинка Коха](https://ru.wikipedia.org/wiki/%D0%9A%D1%80%D0%B8%D0%B2%D0%B0%D1%8F_%D0%9A%D0%BE%D1%85%D0%B0)**. \n",
    "\n",
    "![Koch Snowflake](KochFlake.svg)\n",
    "\n",
    "Каждая из трех строн снежинки представляют собой **кривую Коха**, которая определяется следующим образом:\n",
    "\n",
    "* Кривая с рангом $n=0$ длины $l$ представляет собой отрезок длины $l$\n",
    "* Кривая с рангом $n>1$ длины $l$ строится следующим образом:\n",
    "    - рисуем кривую длины $l/3$ с рангом $n-1$\n",
    "    - поворичиваемся влево на $60^\\circ$\n",
    "    - рисуем кривую длины $l/3$ с рангом $n-1$\n",
    "    - поворичиваемся вправо на $120^\\circ$\n",
    "    - рисуем кривую длины $l/3$ с рангом $n-1$\n",
    "    - поворичиваемся влево на $60^\\circ$\n",
    "    - рисуем кривую длины $l/3$ с рангом $n-1$\n",
    "\n",
    "Каждая их кривых рангом $n-1$ рисуется аналогичным образом с помощью кривых ранга $n-2$ и так далее, пока не доходим до кривых ранга 0, которые представляют из себя отрезки.\n",
    "\n",
    "Это определение можно напрямую запрограммировать на Python:"
   ]
  },
  {
   "cell_type": "code",
   "execution_count": 19,
   "metadata": {},
   "outputs": [
    {
     "data": {
      "image/png": "[encoded data removed]",
      "text/plain": [
       "<Figure size 432x288 with 1 Axes>"
      ]
     },
     "metadata": {
      "needs_background": "light"
     },
     "output_type": "display_data"
    }
   ],
   "source": [
    "def koch_curve(n,x):\n",
    "    if n==0:\n",
    "        turtle.forward(x)\n",
    "    else:\n",
    "        koch_curve(n-1,x/3)\n",
    "        turtle.left(60)\n",
    "        koch_curve(n-1,x/3)\n",
    "        turtle.right(120)\n",
    "        koch_curve(n-1,x/3)\n",
    "        turtle.left(60)\n",
    "        koch_curve(n-1,x/3)\n",
    "\n",
    "turtle.right(90)\n",
    "koch_curve(2,100)\n",
    "turtle.done()"
   ]
  },
  {
   "cell_type": "markdown",
   "metadata": {},
   "source": [
    "Теперь для получения снежинки надо нарисовать три такие кривые:"
   ]
  },
  {
   "cell_type": "code",
   "execution_count": 20,
   "metadata": {},
   "outputs": [
    {
     "data": {
      "image/png": "[encoded data removed]",
      "text/plain": [
       "<Figure size 432x288 with 1 Axes>"
      ]
     },
     "metadata": {
      "needs_background": "light"
     },
     "output_type": "display_data"
    }
   ],
   "source": [
    "def koch_snowflake(n,x):\n",
    "    for _ in range(3):\n",
    "        koch_curve(n,x)\n",
    "        turtle.right(120)\n",
    "\n",
    "koch_snowflake(3,100)\n",
    "turtle.done()"
   ]
  },
  {
   "cell_type": "markdown",
   "metadata": {},
   "source": [
    "В последнем цикле мы видим использование специальной **анонимной переменной** `_` - её можно использовать там, где значение переменной нам не интересно. Имя `_` каждый раз означает новую переменную, т.е. прочитать присвоенное ей значение никогда не получится."
   ]
  }
 ],
 "metadata": {
  "kernelspec": {
   "display_name": "Python 3.9.12 ('base')",
   "language": "python",
   "name": "python3"
  },
  "language_info": {
   "codemirror_mode": {
    "name": "ipython",
    "version": 3
   },
   "file_extension": ".py",
   "mimetype": "text/x-python",
   "name": "python",
   "nbconvert_exporter": "python",
   "pygments_lexer": "ipython3",
   "version": "3.9.12"
  },
  "orig_nbformat": 4,
  "vscode": {
   "interpreter": {
    "hash": "d21c24a7952cc9fa93a33c3da71b373ffe761d6ab0c9cc9b2153e31da51ffb58"
   }
  }
 },
 "nbformat": 4,
 "nbformat_minor": 2
}
